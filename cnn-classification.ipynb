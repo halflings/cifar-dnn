{
 "cells": [
  {
   "cell_type": "code",
   "execution_count": 21,
   "metadata": {
    "collapsed": true
   },
   "outputs": [],
   "source": [
    "%matplotlib inline\n",
    "import matplotlib.pyplot as plt\n",
    "import numpy as np\n",
    "\n",
    "import cifar\n",
    "\n",
    "plt.style.use('fivethirtyeight')"
   ]
  },
  {
   "cell_type": "code",
   "execution_count": 2,
   "metadata": {
    "collapsed": true
   },
   "outputs": [],
   "source": [
    "images, labels, label_names = cifar.load_dataset()"
   ]
  },
  {
   "cell_type": "code",
   "execution_count": 3,
   "metadata": {},
   "outputs": [
    {
     "data": {
      "text/plain": [
       "<matplotlib.image.AxesImage at 0x112b987b8>"
      ]
     },
     "execution_count": 3,
     "metadata": {},
     "output_type": "execute_result"
    },
    {
     "data": {
      "image/png": "[encoded data removed]",
      "text/plain": [
       "<matplotlib.figure.Figure at 0x10dcc00b8>"
      ]
     },
     "metadata": {},
     "output_type": "display_data"
    }
   ],
   "source": [
    "sample_cat = images[labels == 3][5]\n",
    "plt.imshow(sample_cat)"
   ]
  },
  {
   "cell_type": "code",
   "execution_count": 4,
   "metadata": {
    "collapsed": true
   },
   "outputs": [],
   "source": [
    "from cnn import CNN\n",
    "cifar_cnn = CNN(image_size=32, image_channels=3, batch_size=64, learning_rate=0.0005,\n",
    "              batch_norm=True, conv_layers=[(6, 3), (18, 3), (32, 3)], fc_units=200)"
   ]
  },
  {
   "cell_type": "code",
   "execution_count": 17,
   "metadata": {},
   "outputs": [
    {
     "name": "stdout",
     "output_type": "stream",
     "text": [
      "Epoch #0/600 : loss = 5.3124\n",
      "Epoch #50/600 : loss = 2.5130\n",
      "Epoch #100/600 : loss = 2.9704\n",
      "Epoch #150/600 : loss = 3.1044\n",
      "Epoch #200/600 : loss = 2.8633\n",
      "Epoch #250/600 : loss = 2.9929\n",
      "Epoch #300/600 : loss = 2.1956\n",
      "Epoch #350/600 : loss = 2.7879\n",
      "Epoch #400/600 : loss = 3.2123\n",
      "Epoch #450/600 : loss = 2.8120\n",
      "Epoch #500/600 : loss = 2.3467\n",
      "Epoch #550/600 : loss = 2.4983\n"
     ]
    }
   ],
   "source": [
    "cifar_cnn.train(images, labels, max_epochs=600, log_period=50)"
   ]
  },
  {
   "cell_type": "code",
   "execution_count": 27,
   "metadata": {},
   "outputs": [
    {
     "data": {
      "text/plain": [
       "(array([  0.,  46.,   1.,   2.,   1.,   0.,   6.,   3.,   5.]),\n",
       " array([0, 1, 2, 3, 4, 5, 6, 7, 8, 9]),\n",
       " <a list of 9 Patch objects>)"
      ]
     },
     "execution_count": 27,
     "metadata": {},
     "output_type": "execute_result"
    },
    {
     "data": {
      "image/png": "[encoded data removed]",
      "text/plain": [
       "<matplotlib.figure.Figure at 0x10f89cb00>"
      ]
     },
     "metadata": {},
     "output_type": "display_data"
    }
   ],
   "source": [
    "import matplotlib.pyplot as plt\n",
    "plt.hist(cifar_cnn.session.run(cifar_cnn.predictions, feed_dict={cifar_cnn.image_batch: images[labels == 1][:64]}), bins=range(10), orientation='horizontal')"
   ]
  }
 ],
 "metadata": {
  "kernelspec": {
   "display_name": "Python 3",
   "language": "python",
   "name": "python3"
  },
  "language_info": {
   "codemirror_mode": {
    "name": "ipython",
    "version": 3
   },
   "file_extension": ".py",
   "mimetype": "text/x-python",
   "name": "python",
   "nbconvert_exporter": "python",
   "pygments_lexer": "ipython3",
   "version": "3.6.0"
  }
 },
 "nbformat": 4,
 "nbformat_minor": 2
}
